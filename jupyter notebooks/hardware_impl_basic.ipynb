{
 "cells": [
  {
   "cell_type": "code",
   "execution_count": 1,
   "metadata": {},
   "outputs": [
    {
     "data": {
      "application/javascript": [
       "\n",
       "try {\n",
       "require(['notebook/js/codecell'], function(codecell) {\n",
       "  codecell.CodeCell.options_default.highlight_modes[\n",
       "      'magic_text/x-csrc'] = {'reg':[/^%%microblaze/]};\n",
       "  Jupyter.notebook.events.one('kernel_ready.Kernel', function(){\n",
       "      Jupyter.notebook.get_cells().map(function(cell){\n",
       "          if (cell.cell_type == 'code'){ cell.auto_highlight(); } }) ;\n",
       "  });\n",
       "});\n",
       "} catch (e) {};\n"
      ]
     },
     "metadata": {},
     "output_type": "display_data"
    },
    {
     "data": {
      "application/javascript": [
       "\n",
       "try {\n",
       "require(['notebook/js/codecell'], function(codecell) {\n",
       "  codecell.CodeCell.options_default.highlight_modes[\n",
       "      'magic_text/x-csrc'] = {'reg':[/^%%pybind11/]};\n",
       "  Jupyter.notebook.events.one('kernel_ready.Kernel', function(){\n",
       "      Jupyter.notebook.get_cells().map(function(cell){\n",
       "          if (cell.cell_type == 'code'){ cell.auto_highlight(); } }) ;\n",
       "  });\n",
       "});\n",
       "} catch (e) {};\n"
      ]
     },
     "metadata": {},
     "output_type": "display_data"
    }
   ],
   "source": [
    "from pynq import Overlay\n",
    "import numpy as np\n",
    "\n",
    "stream_overlay=Overlay('/home/xilinx/pynq/overlays/project_aes/aes_2.bit')\n"
   ]
  },
  {
   "cell_type": "code",
   "execution_count": 2,
   "metadata": {},
   "outputs": [],
   "source": [
    "stream_overlay?"
   ]
  },
  {
   "cell_type": "code",
   "execution_count": 3,
   "metadata": {},
   "outputs": [],
   "source": [
    "dma = stream_overlay.aes_comb.axi_dma_0"
   ]
  },
  {
   "cell_type": "code",
   "execution_count": 4,
   "metadata": {},
   "outputs": [],
   "source": [
    "dma?"
   ]
  },
  {
   "cell_type": "code",
   "execution_count": 5,
   "metadata": {},
   "outputs": [],
   "source": [
    "from pynq import allocate\n",
    "import numpy as np\n",
    "\n",
    "puint128 = np.dtype([('upper', np.uint64),('lower', np.uint64)])\n",
    "\n",
    "d_in = allocate(shape=(1,), dtype = puint128)\n",
    "d_out = allocate(shape=(1,), dtype = puint128)\n",
    "d_in[0][0] = 0x0000000000000000\n",
    "d_in[0][1] = 0x0000000000000000\n",
    "d_out[0][0] = 0x0000000000000000\n",
    "d_out[0][1] = 0x0000000000000000\n",
    "#key[0][0] = 0x54776F204F6E6520\n",
    "#key[0][1] = 0x4E696E652054776F\n",
    "#key2 = 0x54776F204F6E65204E696E652054776F\n",
    "\n",
    "#k0 = 0x54776F20\n",
    "#k1 = 0x4F6E6520\n",
    "#k2 = 0x4E696E65\n",
    "#k3 = 0x2054776F\n",
    "\n",
    "#k00 = 0x10a58869\n",
    "#k11 = 0xd74be5a3\n",
    "#k22 = 0x74cf867c\n",
    "#k33 = 0xfb473859\n",
    "\n",
    "#EXAMPLE INPUT KEY:0x5468617473206D79204B756E67204675\n",
    "\n",
    "tk0 = 0x54686174\n",
    "tk1 = 0x73206D79\n",
    "tk2 = 0x204B756E\n",
    "tk3 = 0x67204675\n",
    "td_in2 = allocate(shape=(1,), dtype = puint128)\n",
    "td_out = allocate(shape=(1,), dtype = puint128)\n",
    "\n",
    "#EXAMPLE INPUT 128-bit TEXT: 0x54776F204F6E65204E696E652054776F\n",
    "#input with higher bits in second number\n",
    "td_in2[0][1] = 0x54776F204F6E6520\n",
    "td_in2[0][0] = 0x4E696E652054776F\n",
    "td_out[0][0] = 0x0000000000000000\n",
    "td_out[0][1] = 0x0000000000000000\n",
    "\n",
    "#EXAMPLE EXPECTED OUTPUT 128-bit TEXT:0x29C3505F571420F6402299B31A02D73A\n",
    "#print(hex(inarr[0][0]))\n",
    "\n",
    "#print(puint128.itemsize)"
   ]
  },
  {
   "cell_type": "code",
   "execution_count": 7,
   "metadata": {},
   "outputs": [
    {
     "name": "stdout",
     "output_type": "stream",
     "text": [
      "2.5267601013183594\n"
     ]
    }
   ],
   "source": [
    "import time\n",
    "start = time.time()\n",
    "stream_overlay.aes_comb.aes_encrypt_impl_0.write(0x1c, tk0)\n",
    "stream_overlay.aes_comb.aes_encrypt_impl_0.write(0x18, tk1)\n",
    "stream_overlay.aes_comb.aes_encrypt_impl_0.write(0x14, tk2)\n",
    "stream_overlay.aes_comb.aes_encrypt_impl_0.write(0x10, tk3)\n",
    "start = time.time()\n",
    "dma.sendchannel.transfer(td_in2)\n",
    "dma.recvchannel.transfer(td_out)\n",
    "dma.sendchannel.wait()\n",
    "dma.recvchannel.wait()\n",
    "end = time.time() - start\n",
    "print(end*1000)\n"
   ]
  },
  {
   "cell_type": "code",
   "execution_count": 8,
   "metadata": {},
   "outputs": [
    {
     "name": "stdout",
     "output_type": "stream",
     "text": [
      "0x402299b31a02d73a\n",
      "0x29c3505f571420f6\n"
     ]
    }
   ],
   "source": [
    "print(hex(td_out[0][0]))\n",
    "print(hex(td_out[0][1]))"
   ]
  },
  {
   "cell_type": "code",
   "execution_count": null,
   "metadata": {},
   "outputs": [],
   "source": []
  }
 ],
 "metadata": {
  "kernelspec": {
   "display_name": "Python 3",
   "language": "python",
   "name": "python3"
  },
  "language_info": {
   "codemirror_mode": {
    "name": "ipython",
    "version": 3
   },
   "file_extension": ".py",
   "mimetype": "text/x-python",
   "name": "python",
   "nbconvert_exporter": "python",
   "pygments_lexer": "ipython3",
   "version": "3.6.5"
  }
 },
 "nbformat": 4,
 "nbformat_minor": 2
}
