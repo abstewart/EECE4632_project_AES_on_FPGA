{
 "cells": [
  {
   "cell_type": "code",
   "execution_count": 1,
   "metadata": {},
   "outputs": [
    {
     "data": {
      "application/javascript": [
       "\n",
       "try {\n",
       "require(['notebook/js/codecell'], function(codecell) {\n",
       "  codecell.CodeCell.options_default.highlight_modes[\n",
       "      'magic_text/x-csrc'] = {'reg':[/^%%microblaze/]};\n",
       "  Jupyter.notebook.events.one('kernel_ready.Kernel', function(){\n",
       "      Jupyter.notebook.get_cells().map(function(cell){\n",
       "          if (cell.cell_type == 'code'){ cell.auto_highlight(); } }) ;\n",
       "  });\n",
       "});\n",
       "} catch (e) {};\n"
      ]
     },
     "metadata": {},
     "output_type": "display_data"
    },
    {
     "data": {
      "application/javascript": [
       "\n",
       "try {\n",
       "require(['notebook/js/codecell'], function(codecell) {\n",
       "  codecell.CodeCell.options_default.highlight_modes[\n",
       "      'magic_text/x-csrc'] = {'reg':[/^%%pybind11/]};\n",
       "  Jupyter.notebook.events.one('kernel_ready.Kernel', function(){\n",
       "      Jupyter.notebook.get_cells().map(function(cell){\n",
       "          if (cell.cell_type == 'code'){ cell.auto_highlight(); } }) ;\n",
       "  });\n",
       "});\n",
       "} catch (e) {};\n"
      ]
     },
     "metadata": {},
     "output_type": "display_data"
    }
   ],
   "source": [
    "from pynq import Overlay\n",
    "import numpy as np\n",
    "import aes as paes\n",
    "from pynq import allocate\n",
    "import time\n",
    "import struct\n",
    "\n",
    "#data type declaration for streaming, uint_128\n",
    "puint128 = np.dtype([('upper', np.uint64),('lower', np.uint64)])\n",
    "\n",
    "#create the stream overlay\n",
    "stream_overlay=Overlay('/home/xilinx/pynq/overlays/project_aes/aes_opt2.bit')\n",
    "#uncomment to get info on stream_overlay\n",
    "#stream_overlay?\n",
    "\n",
    "#create the direct memory access (dma)\n",
    "dma = stream_overlay.aes_comb.axi_dma_0\n",
    "#uncomment to get info on dma\n",
    "#dma?"
   ]
  },
  {
   "cell_type": "code",
   "execution_count": 2,
   "metadata": {},
   "outputs": [],
   "source": [
    "#Forward encryption function. Takes in the key and plaintext to encrypt, outputs encrypted text and timing values\n",
    "#expects the key as a 4-tuple of 32 bits each representing the key\n",
    "#expects the ptext as a list of 2-part tuples representing 2 64-bit chunks of a 128 bit block\n",
    "def encrypt(key, ptext):\n",
    "    dsize = len(ptext)\n",
    "    #print(dsize)\n",
    "    d_in = allocate(shape=(dsize,), dtype = puint128)\n",
    "    d_out = allocate(shape=(dsize,), dtype = puint128)\n",
    "    for num, data in enumerate(ptext):\n",
    "        d_in[num][1] = data[0]\n",
    "        d_in[num][0] = data[1]\n",
    "    #write the key to the board via axi lite streaming\n",
    "    start = time.time()\n",
    "    stream_overlay.aes_comb.aes_encrypt_impl_0.write(0x1c, key[0])\n",
    "    stream_overlay.aes_comb.aes_encrypt_impl_0.write(0x18, key[1])\n",
    "    stream_overlay.aes_comb.aes_encrypt_impl_0.write(0x14, key[2])\n",
    "    stream_overlay.aes_comb.aes_encrypt_impl_0.write(0x10, key[3])\n",
    "    end = time.time()\n",
    "    pt1 = end-start\n",
    "    start = time.time()\n",
    "    #stream the input to the encryption algorithm and get the output\n",
    "    dma.sendchannel.transfer(d_in)\n",
    "    dma.recvchannel.transfer(d_out)\n",
    "    dma.sendchannel.wait()\n",
    "    dma.recvchannel.wait()\n",
    "    end = time.time()\n",
    "    pt2 = end-start\n",
    "    #return the encrypted data, the time to write the key, and the time to encrypt all the data\n",
    "    return d_out, pt1, pt2"
   ]
  },
  {
   "cell_type": "code",
   "execution_count": 3,
   "metadata": {},
   "outputs": [],
   "source": [
    "#file declarations\n",
    "#file where the key is located, should be 16 characters, or 128 bits\n",
    "keyFileName = '/home/xilinx/jupyter_notebooks/xilinx/input_files/key.txt'\n",
    "#file where the plaintext is located, should be a multiple of 16 characters/128 bits (including whitespace)\n",
    "plaintextFileName = '/home/xilinx/jupyter_notebooks/xilinx/input_files/plaintext.txt'\n",
    "#hardware output file name, encrypted output from hardware impl will be stored here\n",
    "eoutputFileName = '/home/xilinx/jupyter_notebooks/xilinx/input_files/hw_encrypted.txt'\n",
    "#software output file name, encrypted output from hardware impl will be stored here\n",
    "soutputFileName = '/home/xilinx/jupyter_notebooks/xilinx/input_files/sw_encrypted.txt'\n"
   ]
  },
  {
   "cell_type": "code",
   "execution_count": 4,
   "metadata": {},
   "outputs": [
    {
     "name": "stdout",
     "output_type": "stream",
     "text": [
      "1.1930465698242188\n"
     ]
    }
   ],
   "source": [
    "#Software portion\n",
    "#read files\n",
    "with open(keyFileName, mode='r') as file:\n",
    "    skey = file.read()\n",
    "    file.close()\n",
    "#print(skey)\n",
    "#print(type(skey))\n",
    "\n",
    "with open(plaintextFileName, mode='r') as file:\n",
    "    sptext = file.read()\n",
    "    file.close()\n",
    "#print(sptext)\n",
    "#print(type(sptext))\n",
    "\n",
    "#convert inputs to binary\n",
    "skey_bin = skey.encode('ascii')\n",
    "sptext_bin = sptext.encode('ascii')\n",
    "\n",
    "start = time.time()\n",
    "aes_algo = paes.aes_algo(skey_bin)\n",
    "sctext = aes_algo.encrypt_bin(sptext_bin)\n",
    "end = time.time()\n",
    "print((end - start) * 1000)\n",
    "#print(sctext)\n",
    "\n",
    "with open(soutputFileName, mode='wt') as file:\n",
    "    file.write(bytes.hex(sctext))\n",
    "    file.close()"
   ]
  },
  {
   "cell_type": "code",
   "execution_count": 10,
   "metadata": {},
   "outputs": [
    {
     "name": "stdout",
     "output_type": "stream",
     "text": [
      "1\n",
      "decrypted text\n",
      "Two One Nine Two\n",
      "Time to write key to board: 80.0633430480957\n",
      "Time to stream I/O and encrypt: 0.9388923645019531\n"
     ]
    }
   ],
   "source": [
    "#Hardware portion\n",
    "#read in the files\n",
    "with open(keyFileName, mode='rb') as file:\n",
    "    fileContent = file.read()\n",
    "    #print(fileContent)\n",
    "    #read in the file (interpreted as binary), 4 Long ints\n",
    "    keybinary = struct.unpack(\">LLLL\", fileContent)\n",
    "    file.close()\n",
    "\n",
    "with open(plaintextFileName, mode='rb') as file:\n",
    "    fileContent = file.read()\n",
    "    #read in the file in portions of 2 64-bit ints\n",
    "    plaintextBinary = struct.iter_unpack(\">QQ\", fileContent)\n",
    "    file.close()\n",
    "\n",
    "ktext = list(keybinary)\n",
    "ptext = list(plaintextBinary)\n",
    "\"\"\"\n",
    "print(\"cipher key in hex: \" + hex(keybinary[0]) + \" \" + hex(keybinary[1]) + \" \" + hex(keybinary[2]) + \" \" + hex(keybinary[3]))\n",
    "\n",
    "print(\"plaintext in 128 bit blocks in hex:\")\n",
    "for a in ptext:\n",
    "    print(hex(a[0]) + \" \" + hex(a[1]))\n",
    "\"\"\" \n",
    "print(len(ptext))\n",
    "d_out = allocate(shape=(len(ptext),), dtype = puint128)\n",
    "d_out, t1, t2 = encrypt(ktext, ptext)\n",
    "\n",
    "# get the encrypted binary, and decrypt with software\n",
    "ebin = bytearray()\n",
    "for a in d_out:\n",
    "    for i in struct.pack('>Q', a[1]):\n",
    "        ebin.append(i)\n",
    "    for i in struct.pack('>Q', a[0]):\n",
    "        ebin.append(i)\n",
    "    \n",
    "\n",
    "#print(ebin)\n",
    "#print(bytes(ebin))\n",
    "print(\"decrypted text\")\n",
    "print(aes_algo.decrypt_bin(bytes(ebin)))\n",
    "\n",
    "\n",
    "#print out the timeing\n",
    "print(\"Time to write key to board: \" + str(t1*1000))\n",
    "print(\"Time to stream I/O and encrypt: \" + str(t2*1000))\n",
    "#print(d_out)\n",
    "\n",
    "#open the output file for writing binary as hex\n",
    "with open(eoutputFileName, mode='wt') as file:\n",
    "    for e in d_out:\n",
    "        a = int(e[1])\n",
    "        b = int(e[0])\n",
    "        s = a << 64 | b\n",
    "        #print(type(s))\n",
    "        #convert to hex and write to the file\n",
    "        file.write(format(s, 'x'))\n",
    "    file.close()"
   ]
  },
  {
   "cell_type": "code",
   "execution_count": 6,
   "metadata": {},
   "outputs": [],
   "source": [
    "#if the below returns nothing, then the encryptions are the same, otherwise they are different\n",
    "!diff /home/xilinx/jupyter_notebooks/xilinx/input_files/hw_encrypted.txt /home/xilinx/jupyter_notebooks/xilinx/input_files/sw_encrypted.txt"
   ]
  },
  {
   "cell_type": "code",
   "execution_count": null,
   "metadata": {},
   "outputs": [],
   "source": []
  }
 ],
 "metadata": {
  "kernelspec": {
   "display_name": "Python 3",
   "language": "python",
   "name": "python3"
  },
  "language_info": {
   "codemirror_mode": {
    "name": "ipython",
    "version": 3
   },
   "file_extension": ".py",
   "mimetype": "text/x-python",
   "name": "python",
   "nbconvert_exporter": "python",
   "pygments_lexer": "ipython3",
   "version": "3.6.5"
  }
 },
 "nbformat": 4,
 "nbformat_minor": 2
}
